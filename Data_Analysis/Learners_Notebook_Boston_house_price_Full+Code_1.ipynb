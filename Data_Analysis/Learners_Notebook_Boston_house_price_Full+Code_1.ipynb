{
 "cells": [
  {
   "cell_type": "markdown",
   "id": "fbcda061",
   "metadata": {},
   "source": [
    "# **Regression Project: Boston House Price Prediction**\n",
    "\n",
    "# **Marks: 60**"
   ]
  },
  {
   "cell_type": "markdown",
   "id": "a2c2022c",
   "metadata": {},
   "source": [
    "Welcome to the project on regression. We will use the **Boston house price dataset** for this project.\n",
    "\n",
    "-------------------------------\n",
    "## **Objective**\n",
    "-------------------------------\n",
    "\n",
    "The problem at hand is to **predict the housing prices of a town or a suburb based on the features of the locality provided to us**. In the process, we need to **identify the most important features affecting the price of the house**. We need to employ techniques of data preprocessing and build a linear regression model that predicts the prices for the unseen data.\n",
    "\n",
    "----------------------------\n",
    "## **Dataset**\n",
    "---------------------------\n",
    "\n",
    "Each record in the database describes a house in Boston suburb or town. The data was drawn from the Boston Standard Metropolitan Statistical Area (SMSA) in 1970. Detailed attribute information can be found below:\n",
    "\n",
    "Attribute Information:\n",
    "\n",
    "- **CRIM:** Per capita crime rate by town\n",
    "- **ZN:** Proportion of residential land zoned for lots over 25,000 sq.ft.\n",
    "- **INDUS:** Proportion of non-retail business acres per town\n",
    "- **CHAS:** Charles River dummy variable (= 1 if tract bounds river; 0 otherwise)\n",
    "- **NOX:** Nitric Oxide concentration (parts per 10 million)\n",
    "- **RM:** The average number of rooms per dwelling\n",
    "- **AGE:** Proportion of owner-occupied units built before 1940\n",
    "- **DIS:** Weighted distances to five Boston employment centers\n",
    "- **RAD:** Index of accessibility to radial highways\n",
    "- **TAX:** Full-value property-tax rate per 10,000 dollars\n",
    "- **PTRATIO:** Pupil-teacher ratio by town\n",
    "- **LSTAT:** % lower status of the population\n",
    "- **MEDV:** Median value of owner-occupied homes in 1000 dollars"
   ]
  },
  {
   "cell_type": "markdown",
   "id": "1803f0fd",
   "metadata": {},
   "source": [
    "## **Importing the necessary libraries**"
   ]
  },
  {
   "cell_type": "code",
   "execution_count": null,
   "id": "3daed206",
   "metadata": {},
   "outputs": [],
   "source": []
  },
  {
   "cell_type": "markdown",
   "id": "642be949",
   "metadata": {},
   "source": [
    "### Loading the dataset"
   ]
  },
  {
   "cell_type": "code",
   "execution_count": null,
   "id": "1ddc8405",
   "metadata": {},
   "outputs": [],
   "source": []
  },
  {
   "cell_type": "markdown",
   "id": "21fa191a",
   "metadata": {},
   "source": [
    "## Data Overview"
   ]
  },
  {
   "cell_type": "markdown",
   "id": "58a60b5d",
   "metadata": {},
   "source": [
    "- Observations\n",
    "- Sanity checks"
   ]
  },
  {
   "cell_type": "code",
   "execution_count": null,
   "id": "3f7b19d0",
   "metadata": {},
   "outputs": [],
   "source": []
  },
  {
   "cell_type": "markdown",
   "id": "69b89c85",
   "metadata": {},
   "source": [
    "## Exploratory Data Analysis (EDA)"
   ]
  },
  {
   "cell_type": "markdown",
   "id": "cd05e109",
   "metadata": {},
   "source": [
    "- EDA is an important part of any project involving data.\n",
    "- It is important to investigate and understand the data better before building a model with it.\n",
    "- A few questions have been mentioned below which will help you approach the analysis in the right manner and generate insights from the data.\n",
    "- A thorough analysis of the data, in addition to the questions mentioned below, should be done."
   ]
  },
  {
   "cell_type": "markdown",
   "id": "f862a17f",
   "metadata": {},
   "source": [
    "**Questions:**\n",
    "\n",
    "1. What does the distribution of 'MEDV' look like?\n",
    "2. What can we infer form the correlation heatmap? Is there correlation between the dependent and independent variables?\n",
    "3. What are all the inferences that can be found by doing univariate analysis for different variables?\n",
    "4. Do bivariate analysis to visualize the relationship between the features having significant correlations (>= 0.7 or <= -0.7)"
   ]
  },
  {
   "cell_type": "code",
   "execution_count": null,
   "id": "7d0794b5",
   "metadata": {},
   "outputs": [],
   "source": []
  },
  {
   "cell_type": "markdown",
   "id": "c897c375",
   "metadata": {},
   "source": [
    "## Data Preprocessing"
   ]
  },
  {
   "cell_type": "markdown",
   "id": "c8910b42",
   "metadata": {},
   "source": [
    "- Missing value treatment\n",
    "- Log transformation of dependent variable if skewed\n",
    "- Feature engineering (if needed)\n",
    "- Outlier detection and treatment (if needed)\n",
    "- Preparing data for modeling\n",
    "- Any other preprocessing steps (if needed)"
   ]
  },
  {
   "cell_type": "code",
   "execution_count": null,
   "id": "0d919d4a",
   "metadata": {},
   "outputs": [],
   "source": []
  },
  {
   "cell_type": "markdown",
   "id": "9a7a6ab3",
   "metadata": {},
   "source": [
    "## Model Building - Linear Regression"
   ]
  },
  {
   "cell_type": "code",
   "execution_count": null,
   "id": "bbd219c6",
   "metadata": {},
   "outputs": [],
   "source": []
  },
  {
   "cell_type": "markdown",
   "id": "79ac9e57",
   "metadata": {},
   "source": [
    "## Model Performance Check"
   ]
  },
  {
   "cell_type": "markdown",
   "id": "85713b06",
   "metadata": {},
   "source": [
    "1. How does the model is performing? Check using Rsquared, RSME, MAE, MAPE\n",
    "2. Is there multicollinearity? Check using VIF\n",
    "3. How does the model is performing after cross validation?"
   ]
  },
  {
   "cell_type": "code",
   "execution_count": null,
   "id": "02b17c68",
   "metadata": {},
   "outputs": [],
   "source": []
  },
  {
   "cell_type": "markdown",
   "id": "b8b4d841",
   "metadata": {},
   "source": [
    "## Checking Linear Regression Assumptions"
   ]
  },
  {
   "cell_type": "markdown",
   "id": "a14c4da9",
   "metadata": {},
   "source": [
    "- In order to make statistical inferences from a linear regression model, it is important to ensure that the assumptions of linear regression are satisfied."
   ]
  },
  {
   "cell_type": "code",
   "execution_count": null,
   "id": "c5ae8b7d",
   "metadata": {},
   "outputs": [],
   "source": []
  },
  {
   "cell_type": "markdown",
   "id": "acd5ee90",
   "metadata": {},
   "source": [
    "## Final Model"
   ]
  },
  {
   "cell_type": "code",
   "execution_count": null,
   "id": "a0c247af",
   "metadata": {},
   "outputs": [],
   "source": []
  },
  {
   "cell_type": "markdown",
   "id": "44ab1bed",
   "metadata": {},
   "source": [
    "## Actionable Insights and Recommendations "
   ]
  },
  {
   "cell_type": "markdown",
   "id": "2d3462b3",
   "metadata": {},
   "source": [
    "- \n"
   ]
  },
  {
   "cell_type": "markdown",
   "id": "5dd9c887",
   "metadata": {},
   "source": [
    "___"
   ]
  }
 ],
 "metadata": {
  "kernelspec": {
   "display_name": "Python 3 (ipykernel)",
   "language": "python",
   "name": "python3"
  },
  "language_info": {
   "codemirror_mode": {
    "name": "ipython",
    "version": 3
   },
   "file_extension": ".py",
   "mimetype": "text/x-python",
   "name": "python",
   "nbconvert_exporter": "python",
   "pygments_lexer": "ipython3",
   "version": "3.9.13"
  }
 },
 "nbformat": 4,
 "nbformat_minor": 5
}
